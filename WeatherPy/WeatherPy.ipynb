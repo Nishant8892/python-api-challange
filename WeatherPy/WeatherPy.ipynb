{
 "cells": [
  {
   "cell_type": "markdown",
   "metadata": {},
   "source": [
    "# WeatherPy\n",
    "----\n",
    "\n",
    "#### Note\n",
    "* Instructions have been included for each segment. You do not have to follow them exactly, but they are included to help you think through the steps."
   ]
  },
  {
   "cell_type": "code",
   "execution_count": 3,
   "metadata": {},
   "outputs": [],
   "source": [
    "import matplotlib.pyplot as plt\n",
    "import pandas as pd\n",
    "import numpy as np\n",
    "import requests\n",
    "import time\n",
    "from scipy.stats import linregress\n",
    "\n",
    "# Import API key\n",
    "from api_keys import weather_api_key\n",
    "\n",
    "\n",
    "# Incorporated citipy to determine city based on latitude and longitude\n",
    "from citipy import citipy\n",
    "# Output File (CSV)\n",
    "output_data_file = \"output_data/cities.csv\"\n",
    "\n",
    "# Range of latitudes and longitudes\n",
    "lat_range = (-90, 90)\n",
    "lng_range = (-180, 180)"
   ]
  },
  {
   "cell_type": "markdown",
   "metadata": {},
   "source": [
    "## Generate Cities List"
   ]
  },
  {
   "cell_type": "code",
   "execution_count": 4,
   "metadata": {},
   "outputs": [
    {
     "data": {
      "text/plain": [
       "640"
      ]
     },
     "execution_count": 4,
     "metadata": {},
     "output_type": "execute_result"
    }
   ],
   "source": [
    "# List for holding lat_lngs and cities\n",
    "lat_lngs = []\n",
    "cities = []\n",
    "\n",
    "# Create a set of random lat and lng combinations\n",
    "lats = np.random.uniform(lat_range[0], lat_range[1], size=1500)\n",
    "lngs = np.random.uniform(lng_range[0], lng_range[1], size=1500)\n",
    "lat_lngs = zip(lats, lngs)\n",
    "\n",
    "# Identify nearest city for each lat, lng combination\n",
    "for lat_lng in lat_lngs:\n",
    "    city = citipy.nearest_city(lat_lng[0], lat_lng[1]).city_name\n",
    "    \n",
    "    # If the city is unique, then add it to a our cities list\n",
    "    if city not in cities:\n",
    "        cities.append(city)\n",
    "\n",
    "# Print the city count to confirm sufficient count\n",
    "len(cities)"
   ]
  },
  {
   "cell_type": "markdown",
   "metadata": {},
   "source": [
    "### Perform API Calls\n",
    "* Perform a weather check on each city using a series of successive API calls.\n",
    "* Include a print log of each city as it's being processed (with the city number and city name).\n"
   ]
  },
  {
   "cell_type": "code",
   "execution_count": 5,
   "metadata": {},
   "outputs": [
    {
     "name": "stdout",
     "output_type": "stream",
     "text": [
      "Beginning Data Retrieval\n",
      "-----------------------------\n",
      "Processing Record 1 of Set 1 | tasiilaq\n",
      "Processing Record 2 of Set 1 | beringovskiy\n",
      "Processing Record 3 of Set 1 | kapaa\n",
      "Processing Record 4 of Set 1 | butaritari\n",
      "Processing Record 5 of Set 1 | khatanga\n",
      "Processing Record 6 of Set 1 | iqaluit\n",
      "Processing Record 7 of Set 1 | sao felix do xingu\n",
      "Processing Record 8 of Set 1 | rikitea\n",
      "Processing Record 9 of Set 1 | hasaki\n",
      "Processing Record 10 of Set 1 | uvat\n",
      "Processing Record 11 of Set 1 | mayo\n",
      "Processing Record 12 of Set 1 | ambon\n",
      "Processing Record 13 of Set 1 | haines junction\n",
      "Processing Record 14 of Set 1 | avarua\n",
      "Processing Record 15 of Set 1 | beloha\n",
      "Processing Record 16 of Set 1 | westport\n",
      "Processing Record 17 of Set 1 | nikolskoye\n",
      "Processing Record 18 of Set 1 | hobart\n",
      "City not found. Skipping to next available city.\n",
      "Processing Record 19 of Set 1 | aswan\n",
      "Processing Record 20 of Set 1 | boende\n",
      "Processing Record 21 of Set 1 | dikson\n",
      "Processing Record 22 of Set 1 | puerto quijarro\n",
      "Processing Record 23 of Set 1 | stromness\n",
      "Processing Record 24 of Set 1 | new norfolk\n",
      "Processing Record 25 of Set 1 | jalu\n",
      "Processing Record 26 of Set 1 | bluff\n",
      "Processing Record 27 of Set 1 | nome\n",
      "Processing Record 28 of Set 1 | mezen\n",
      "Processing Record 29 of Set 1 | waynesville\n",
      "Processing Record 30 of Set 1 | manokwari\n",
      "Processing Record 31 of Set 1 | kodiak\n",
      "Processing Record 32 of Set 1 | bredasdorp\n",
      "Processing Record 33 of Set 1 | punta arenas\n",
      "Processing Record 34 of Set 1 | ushuaia\n",
      "Processing Record 35 of Set 1 | selenice\n",
      "Processing Record 36 of Set 1 | hay river\n",
      "Processing Record 37 of Set 1 | dingle\n",
      "Processing Record 38 of Set 1 | taoudenni\n",
      "Processing Record 39 of Set 1 | thompson\n",
      "Processing Record 40 of Set 1 | jinhua\n",
      "Processing Record 41 of Set 1 | sambava\n",
      "Processing Record 42 of Set 1 | alofi\n",
      "Processing Record 43 of Set 1 | atuona\n",
      "Processing Record 44 of Set 1 | busselton\n",
      "Processing Record 45 of Set 1 | ponta do sol\n",
      "City not found. Skipping to next available city.\n",
      "Processing Record 46 of Set 1 | nakhon si thammarat\n",
      "Processing Record 47 of Set 1 | katsuura\n",
      "Processing Record 48 of Set 1 | hermanus\n",
      "City not found. Skipping to next available city.\n",
      "Processing Record 49 of Set 1 | kaitangata\n",
      "Processing Record 50 of Set 1 | clarence town\n",
      "Processing Record 0 of Set 2 | yellowknife\n",
      "Processing Record 1 of Set 2 | wanning\n",
      "Processing Record 2 of Set 2 | phillipsburg\n",
      "Processing Record 3 of Set 2 | vila franca do campo\n",
      "Processing Record 4 of Set 2 | korla\n",
      "Processing Record 5 of Set 2 | yumen\n",
      "Processing Record 6 of Set 2 | calvia\n",
      "Processing Record 7 of Set 2 | villa maria\n",
      "Processing Record 8 of Set 2 | sibay\n",
      "Processing Record 9 of Set 2 | canals\n",
      "Processing Record 10 of Set 2 | fort nelson\n",
      "Processing Record 11 of Set 2 | tabou\n",
      "Processing Record 12 of Set 2 | edd\n",
      "Processing Record 13 of Set 2 | vaini\n",
      "Processing Record 14 of Set 2 | cape town\n",
      "Processing Record 15 of Set 2 | tuatapere\n",
      "Processing Record 16 of Set 2 | chuy\n",
      "Processing Record 17 of Set 2 | port alfred\n",
      "Processing Record 18 of Set 2 | nampa\n",
      "Processing Record 19 of Set 2 | san patricio\n",
      "Processing Record 20 of Set 2 | palu\n",
      "Processing Record 21 of Set 2 | cidreira\n",
      "Processing Record 22 of Set 2 | kouango\n",
      "Processing Record 23 of Set 2 | dunedin\n",
      "City not found. Skipping to next available city.\n",
      "Processing Record 24 of Set 2 | altamont\n",
      "Processing Record 25 of Set 2 | poya\n",
      "Processing Record 26 of Set 2 | jumla\n",
      "Processing Record 27 of Set 2 | kavaratti\n",
      "Processing Record 28 of Set 2 | coquimbo\n",
      "Processing Record 29 of Set 2 | safranbolu\n",
      "Processing Record 30 of Set 2 | oriximina\n",
      "Processing Record 31 of Set 2 | bratskoye\n",
      "Processing Record 32 of Set 2 | auki\n",
      "City not found. Skipping to next available city.\n",
      "Processing Record 33 of Set 2 | benguela\n",
      "Processing Record 34 of Set 2 | ilhabela\n",
      "City not found. Skipping to next available city.\n",
      "Processing Record 35 of Set 2 | albany\n",
      "Processing Record 36 of Set 2 | lebu\n",
      "Processing Record 37 of Set 2 | sainte-suzanne\n",
      "Processing Record 38 of Set 2 | darab\n",
      "Processing Record 39 of Set 2 | deputatskiy\n",
      "City not found. Skipping to next available city.\n",
      "Processing Record 40 of Set 2 | denpasar\n",
      "City not found. Skipping to next available city.\n",
      "Processing Record 41 of Set 2 | hamilton\n",
      "City not found. Skipping to next available city.\n",
      "Processing Record 42 of Set 2 | los llanos de aridane\n",
      "Processing Record 43 of Set 2 | aquiraz\n",
      "Processing Record 44 of Set 2 | mahebourg\n",
      "Processing Record 45 of Set 2 | pevek\n",
      "Processing Record 46 of Set 2 | jamestown\n",
      "Processing Record 47 of Set 2 | walvis bay\n",
      "Processing Record 48 of Set 2 | ulaanbaatar\n",
      "Processing Record 49 of Set 2 | arraial do cabo\n",
      "Processing Record 50 of Set 2 | namatanai\n",
      "Processing Record 0 of Set 3 | roald\n",
      "Processing Record 1 of Set 3 | victoria\n",
      "Processing Record 2 of Set 3 | airai\n",
      "Processing Record 3 of Set 3 | hailey\n",
      "Processing Record 4 of Set 3 | taksimo\n",
      "Processing Record 5 of Set 3 | clyde river\n",
      "Processing Record 6 of Set 3 | muzhi\n",
      "Processing Record 7 of Set 3 | la peca\n",
      "Processing Record 8 of Set 3 | hilo\n",
      "City not found. Skipping to next available city.\n",
      "Processing Record 9 of Set 3 | sampit\n",
      "City not found. Skipping to next available city.\n",
      "Processing Record 10 of Set 3 | tiksi\n",
      "Processing Record 11 of Set 3 | severo-kurilsk\n",
      "Processing Record 12 of Set 3 | hammerfest\n",
      "Processing Record 13 of Set 3 | gornopravdinsk\n",
      "Processing Record 14 of Set 3 | fortuna\n",
      "City not found. Skipping to next available city.\n",
      "Processing Record 15 of Set 3 | leningradskiy\n",
      "Processing Record 16 of Set 3 | mahenge\n",
      "Processing Record 17 of Set 3 | maputo\n",
      "Processing Record 18 of Set 3 | oyama\n",
      "Processing Record 19 of Set 3 | fez\n",
      "Processing Record 20 of Set 3 | mataura\n",
      "Processing Record 21 of Set 3 | saint-philippe\n",
      "Processing Record 22 of Set 3 | marsh harbour\n",
      "Processing Record 23 of Set 3 | maceio\n",
      "Processing Record 24 of Set 3 | tiznit\n",
      "City not found. Skipping to next available city.\n",
      "Processing Record 25 of Set 3 | hovd\n",
      "Processing Record 26 of Set 3 | joshimath\n",
      "Processing Record 27 of Set 3 | torbay\n",
      "Processing Record 28 of Set 3 | barrow\n",
      "Processing Record 29 of Set 3 | onega\n",
      "Processing Record 30 of Set 3 | aitape\n",
      "Processing Record 31 of Set 3 | carnarvon\n",
      "Processing Record 32 of Set 3 | pochutla\n",
      "Processing Record 33 of Set 3 | brae\n",
      "Processing Record 34 of Set 3 | kahului\n",
      "Processing Record 35 of Set 3 | saskylakh\n",
      "Processing Record 36 of Set 3 | tautira\n",
      "Processing Record 37 of Set 3 | cherskiy\n",
      "Processing Record 38 of Set 3 | tura\n",
      "Processing Record 39 of Set 3 | dolzhanskaya\n",
      "Processing Record 40 of Set 3 | sao filipe\n",
      "Processing Record 41 of Set 3 | bambous virieux\n",
      "Processing Record 42 of Set 3 | lata\n",
      "Processing Record 43 of Set 3 | portland\n",
      "Processing Record 44 of Set 3 | koundara\n",
      "Processing Record 45 of Set 3 | ilulissat\n",
      "Processing Record 46 of Set 3 | zaysan\n",
      "Processing Record 47 of Set 3 | puerto ayora\n",
      "Processing Record 48 of Set 3 | ahuimanu\n",
      "Processing Record 49 of Set 3 | cayenne\n",
      "Processing Record 50 of Set 3 | sarangani\n",
      "Processing Record 0 of Set 4 | bengkulu\n",
      "Processing Record 1 of Set 4 | coihaique\n",
      "City not found. Skipping to next available city.\n",
      "Processing Record 2 of Set 4 | gat\n",
      "Processing Record 3 of Set 4 | vostok\n",
      "City not found. Skipping to next available city.\n",
      "Processing Record 4 of Set 4 | houma\n",
      "Processing Record 5 of Set 4 | nioro\n",
      "Processing Record 6 of Set 4 | saint george\n",
      "Processing Record 7 of Set 4 | nantucket\n",
      "Processing Record 8 of Set 4 | kenai\n",
      "Processing Record 9 of Set 4 | kembe\n",
      "Processing Record 10 of Set 4 | zolochiv\n",
      "City not found. Skipping to next available city.\n",
      "Processing Record 11 of Set 4 | ahipara\n",
      "Processing Record 12 of Set 4 | qaanaaq\n",
      "Processing Record 13 of Set 4 | talnakh\n",
      "Processing Record 14 of Set 4 | narasannapeta\n",
      "Processing Record 15 of Set 4 | roma\n",
      "Processing Record 16 of Set 4 | salalah\n",
      "Processing Record 17 of Set 4 | touros\n",
      "Processing Record 18 of Set 4 | camacha\n",
      "Processing Record 19 of Set 4 | narrabri\n",
      "Processing Record 20 of Set 4 | lindi\n",
      "Processing Record 21 of Set 4 | ixtapa\n",
      "Processing Record 22 of Set 4 | farafangana\n",
      "Processing Record 23 of Set 4 | wilmington\n",
      "Processing Record 24 of Set 4 | istok\n",
      "Processing Record 25 of Set 4 | ribeira grande\n",
      "Processing Record 26 of Set 4 | basco\n",
      "Processing Record 27 of Set 4 | huarmey\n",
      "Processing Record 28 of Set 4 | ostrovnoy\n"
     ]
    },
    {
     "name": "stdout",
     "output_type": "stream",
     "text": [
      "Processing Record 29 of Set 4 | baft\n",
      "Processing Record 30 of Set 4 | port elizabeth\n",
      "Processing Record 31 of Set 4 | arlit\n",
      "Processing Record 32 of Set 4 | peniche\n",
      "Processing Record 33 of Set 4 | willowmore\n",
      "Processing Record 34 of Set 4 | kaeo\n",
      "Processing Record 35 of Set 4 | egvekinot\n",
      "Processing Record 36 of Set 4 | junagarh\n",
      "Processing Record 37 of Set 4 | buchanan\n",
      "Processing Record 38 of Set 4 | pahrump\n",
      "Processing Record 39 of Set 4 | la rochelle\n",
      "Processing Record 40 of Set 4 | provideniya\n",
      "Processing Record 41 of Set 4 | faanui\n",
      "Processing Record 42 of Set 4 | petropavlovsk-kamchatskiy\n",
      "Processing Record 43 of Set 4 | nhulunbuy\n",
      "Processing Record 44 of Set 4 | vangaindrano\n",
      "Processing Record 45 of Set 4 | itaituba\n",
      "Processing Record 46 of Set 4 | zeya\n",
      "Processing Record 47 of Set 4 | ceska kamenice\n",
      "Processing Record 48 of Set 4 | chengde\n",
      "Processing Record 49 of Set 4 | port hardy\n",
      "Processing Record 50 of Set 4 | radom\n",
      "Processing Record 0 of Set 5 | mar del plata\n",
      "Processing Record 1 of Set 5 | the pas\n",
      "Processing Record 2 of Set 5 | adeje\n",
      "Processing Record 3 of Set 5 | nanortalik\n",
      "Processing Record 4 of Set 5 | imbituba\n",
      "Processing Record 5 of Set 5 | sangar\n",
      "Processing Record 6 of Set 5 | dhidhdhoo\n",
      "Processing Record 7 of Set 5 | bindura\n",
      "Processing Record 8 of Set 5 | san isidro\n",
      "Processing Record 9 of Set 5 | valle de allende\n",
      "City not found. Skipping to next available city.\n",
      "Processing Record 10 of Set 5 | coruripe\n",
      "Processing Record 11 of Set 5 | sitka\n",
      "Processing Record 12 of Set 5 | tuktoyaktuk\n",
      "Processing Record 13 of Set 5 | amahai\n",
      "Processing Record 14 of Set 5 | martapura\n",
      "Processing Record 15 of Set 5 | chinar\n",
      "Processing Record 16 of Set 5 | lavrentiya\n",
      "Processing Record 17 of Set 5 | saint-michel-des-saints\n",
      "Processing Record 18 of Set 5 | zhangjiakou\n",
      "Processing Record 19 of Set 5 | alexandria\n",
      "Processing Record 20 of Set 5 | blagoyevo\n",
      "Processing Record 21 of Set 5 | soligalich\n",
      "Processing Record 22 of Set 5 | manta\n",
      "Processing Record 23 of Set 5 | chapleau\n",
      "Processing Record 24 of Set 5 | baiyin\n",
      "Processing Record 25 of Set 5 | ciomas\n",
      "Processing Record 26 of Set 5 | visnes\n",
      "Processing Record 27 of Set 5 | genhe\n",
      "Processing Record 28 of Set 5 | olafsvik\n",
      "Processing Record 29 of Set 5 | saint-leu\n",
      "Processing Record 30 of Set 5 | honiara\n",
      "Processing Record 31 of Set 5 | lompoc\n",
      "Processing Record 32 of Set 5 | dodge city\n",
      "Processing Record 33 of Set 5 | shenjiamen\n",
      "Processing Record 34 of Set 5 | sorland\n",
      "Processing Record 35 of Set 5 | ordu\n",
      "Processing Record 36 of Set 5 | toppenish\n",
      "Processing Record 37 of Set 5 | janow lubelski\n",
      "Processing Record 38 of Set 5 | karratha\n",
      "Processing Record 39 of Set 5 | qasigiannguit\n",
      "Processing Record 40 of Set 5 | east london\n",
      "Processing Record 41 of Set 5 | jibuti\n",
      "Processing Record 42 of Set 5 | masuguru\n",
      "Processing Record 43 of Set 5 | chara\n",
      "Processing Record 44 of Set 5 | yar-sale\n",
      "Processing Record 45 of Set 5 | laurel\n",
      "Processing Record 46 of Set 5 | puerto del rosario\n",
      "City not found. Skipping to next available city.\n",
      "Processing Record 47 of Set 5 | kruisfontein\n",
      "Processing Record 48 of Set 5 | santa rosalia\n",
      "Processing Record 49 of Set 5 | yenagoa\n",
      "Processing Record 50 of Set 5 | rodental\n",
      "Processing Record 0 of Set 6 | helong\n",
      "Processing Record 1 of Set 6 | luanda\n",
      "Processing Record 2 of Set 6 | malanje\n",
      "City not found. Skipping to next available city.\n",
      "Processing Record 3 of Set 6 | ola\n",
      "Processing Record 4 of Set 6 | geraldton\n",
      "Processing Record 5 of Set 6 | flinders\n",
      "Processing Record 6 of Set 6 | faya\n",
      "Processing Record 7 of Set 6 | bangassou\n",
      "Processing Record 8 of Set 6 | belogorsk\n",
      "Processing Record 9 of Set 6 | christchurch\n",
      "Processing Record 10 of Set 6 | longyearbyen\n",
      "Processing Record 11 of Set 6 | letlhakane\n",
      "Processing Record 12 of Set 6 | luderitz\n",
      "City not found. Skipping to next available city.\n",
      "Processing Record 13 of Set 6 | san juan\n",
      "Processing Record 14 of Set 6 | barkhan\n",
      "Processing Record 15 of Set 6 | chapais\n",
      "Processing Record 16 of Set 6 | saquena\n",
      "Processing Record 17 of Set 6 | abalak\n",
      "Processing Record 18 of Set 6 | yamada\n",
      "Processing Record 19 of Set 6 | norman wells\n",
      "Processing Record 20 of Set 6 | trairi\n",
      "City not found. Skipping to next available city.\n",
      "Processing Record 21 of Set 6 | belyy yar\n",
      "Processing Record 22 of Set 6 | codrington\n",
      "Processing Record 23 of Set 6 | banda aceh\n",
      "Processing Record 24 of Set 6 | itarema\n",
      "Processing Record 25 of Set 6 | criciova\n",
      "Processing Record 26 of Set 6 | aleksandrovsk-sakhalinskiy\n",
      "Processing Record 27 of Set 6 | adelaide\n",
      "Processing Record 28 of Set 6 | kavieng\n",
      "Processing Record 29 of Set 6 | ryotsu\n",
      "Processing Record 30 of Set 6 | bikaner\n",
      "Processing Record 31 of Set 6 | solnechnyy\n",
      "Processing Record 32 of Set 6 | arman\n",
      "Processing Record 33 of Set 6 | corsicana\n",
      "Processing Record 34 of Set 6 | kendari\n",
      "Processing Record 35 of Set 6 | teguldet\n",
      "Processing Record 36 of Set 6 | kibara\n",
      "Processing Record 37 of Set 6 | caravelas\n",
      "Processing Record 38 of Set 6 | rio grande\n",
      "Processing Record 39 of Set 6 | upernavik\n",
      "Processing Record 40 of Set 6 | hofn\n",
      "Processing Record 41 of Set 6 | maniwaki\n",
      "Processing Record 42 of Set 6 | bure\n",
      "Processing Record 43 of Set 6 | canchungo\n",
      "City not found. Skipping to next available city.\n",
      "Processing Record 44 of Set 6 | carutapera\n",
      "Processing Record 45 of Set 6 | narsaq\n",
      "City not found. Skipping to next available city.\n",
      "Processing Record 46 of Set 6 | aras\n",
      "Processing Record 47 of Set 6 | pontal do parana\n",
      "Processing Record 48 of Set 6 | castro\n",
      "Processing Record 49 of Set 6 | ibotirama\n",
      "Processing Record 50 of Set 6 | sao gabriel da cachoeira\n",
      "Processing Record 0 of Set 7 | port macquarie\n",
      "Processing Record 1 of Set 7 | kulachi\n",
      "Processing Record 2 of Set 7 | mazatlan\n",
      "Processing Record 3 of Set 7 | kikwit\n",
      "Processing Record 4 of Set 7 | antsirabe\n",
      "City not found. Skipping to next available city.\n",
      "Processing Record 5 of Set 7 | artesia\n",
      "City not found. Skipping to next available city.\n",
      "Processing Record 6 of Set 7 | ngunguru\n",
      "Processing Record 7 of Set 7 | sabang\n",
      "Processing Record 8 of Set 7 | sept-iles\n",
      "City not found. Skipping to next available city.\n",
      "Processing Record 9 of Set 7 | massa marittima\n",
      "Processing Record 10 of Set 7 | murgab\n",
      "Processing Record 11 of Set 7 | agudos\n",
      "Processing Record 12 of Set 7 | zeerust\n",
      "Processing Record 13 of Set 7 | nijar\n",
      "Processing Record 14 of Set 7 | ancud\n",
      "Processing Record 15 of Set 7 | maiduguri\n",
      "Processing Record 16 of Set 7 | carndonagh\n",
      "City not found. Skipping to next available city.\n",
      "Processing Record 17 of Set 7 | immokalee\n",
      "Processing Record 18 of Set 7 | bonavista\n",
      "Processing Record 19 of Set 7 | georgetown\n",
      "Processing Record 20 of Set 7 | grindavik\n",
      "Processing Record 21 of Set 7 | tupelo\n",
      "City not found. Skipping to next available city.\n",
      "Processing Record 22 of Set 7 | taiyuan\n",
      "Processing Record 23 of Set 7 | pisco\n",
      "Processing Record 24 of Set 7 | virginia beach\n",
      "Processing Record 25 of Set 7 | asau\n",
      "City not found. Skipping to next available city.\n",
      "Processing Record 26 of Set 7 | lodwar\n",
      "Processing Record 27 of Set 7 | bintulu\n",
      "Processing Record 28 of Set 7 | pangnirtung\n",
      "Processing Record 29 of Set 7 | esperance\n",
      "Processing Record 30 of Set 7 | azare\n",
      "Processing Record 31 of Set 7 | ures\n",
      "Processing Record 32 of Set 7 | papar\n",
      "Processing Record 33 of Set 7 | port blair\n",
      "City not found. Skipping to next available city.\n",
      "Processing Record 34 of Set 7 | laguna\n",
      "Processing Record 35 of Set 7 | magadan\n",
      "City not found. Skipping to next available city.\n",
      "Processing Record 36 of Set 7 | pogranichnyy\n",
      "Processing Record 37 of Set 7 | ustye\n",
      "Processing Record 38 of Set 7 | sarahan\n",
      "City not found. Skipping to next available city.\n",
      "Processing Record 39 of Set 7 | roseburg\n",
      "City not found. Skipping to next available city.\n",
      "Processing Record 40 of Set 7 | taitung\n",
      "Processing Record 41 of Set 7 | turtas\n",
      "City not found. Skipping to next available city.\n",
      "Processing Record 42 of Set 7 | new iberia\n",
      "Processing Record 43 of Set 7 | sungaipenuh\n",
      "Processing Record 44 of Set 7 | neuquen\n",
      "Processing Record 45 of Set 7 | hidalgotitlan\n",
      "Processing Record 46 of Set 7 | sokolo\n",
      "Processing Record 47 of Set 7 | marienburg\n",
      "Processing Record 48 of Set 7 | angoche\n",
      "Processing Record 49 of Set 7 | necochea\n",
      "City not found. Skipping to next available city.\n",
      "Processing Record 50 of Set 7 | foligno\n",
      "Processing Record 0 of Set 8 | sao miguel do araguaia\n"
     ]
    },
    {
     "name": "stdout",
     "output_type": "stream",
     "text": [
      "Processing Record 1 of Set 8 | heishan\n",
      "Processing Record 2 of Set 8 | blama\n",
      "Processing Record 3 of Set 8 | senador jose porfirio\n",
      "Processing Record 4 of Set 8 | guarapari\n",
      "Processing Record 5 of Set 8 | fairbanks\n",
      "City not found. Skipping to next available city.\n",
      "Processing Record 6 of Set 8 | souillac\n",
      "Processing Record 7 of Set 8 | hearst\n",
      "Processing Record 8 of Set 8 | monte alegre\n",
      "Processing Record 9 of Set 8 | balkhash\n",
      "Processing Record 10 of Set 8 | hithadhoo\n",
      "Processing Record 11 of Set 8 | puerto ayacucho\n",
      "City not found. Skipping to next available city.\n",
      "Processing Record 12 of Set 8 | mweka\n",
      "Processing Record 13 of Set 8 | biltine\n",
      "City not found. Skipping to next available city.\n",
      "Processing Record 14 of Set 8 | acapulco\n",
      "Processing Record 15 of Set 8 | hirara\n",
      "Processing Record 16 of Set 8 | sao joao da barra\n",
      "Processing Record 17 of Set 8 | lerwick\n",
      "Processing Record 18 of Set 8 | constitucion\n",
      "City not found. Skipping to next available city.\n",
      "Processing Record 19 of Set 8 | praia da vitoria\n",
      "Processing Record 20 of Set 8 | poum\n",
      "Processing Record 21 of Set 8 | saint-louis\n",
      "Processing Record 22 of Set 8 | siddhapur\n",
      "Processing Record 23 of Set 8 | lyuban\n",
      "Processing Record 24 of Set 8 | comendador\n",
      "Processing Record 25 of Set 8 | guipavas\n",
      "Processing Record 26 of Set 8 | samarai\n",
      "Processing Record 27 of Set 8 | rusape\n",
      "Processing Record 28 of Set 8 | minsk\n",
      "Processing Record 29 of Set 8 | santiago del estero\n",
      "Processing Record 30 of Set 8 | ulladulla\n",
      "Processing Record 31 of Set 8 | riverton\n",
      "Processing Record 32 of Set 8 | lasa\n",
      "Processing Record 33 of Set 8 | bedford\n",
      "Processing Record 34 of Set 8 | neryungri\n",
      "City not found. Skipping to next available city.\n",
      "Processing Record 35 of Set 8 | bethel\n",
      "Processing Record 36 of Set 8 | barao de melgaco\n",
      "Processing Record 37 of Set 8 | ati\n",
      "Processing Record 38 of Set 8 | kingman\n",
      "Processing Record 39 of Set 8 | serdobsk\n",
      "Processing Record 40 of Set 8 | college\n",
      "Processing Record 41 of Set 8 | bonthe\n",
      "Processing Record 42 of Set 8 | konokovo\n",
      "Processing Record 43 of Set 8 | pangai\n",
      "Processing Record 44 of Set 8 | lagoa\n",
      "City not found. Skipping to next available city.\n",
      "Processing Record 45 of Set 8 | keti bandar\n",
      "Processing Record 46 of Set 8 | sur\n",
      "Processing Record 47 of Set 8 | zhuhai\n",
      "Processing Record 48 of Set 8 | adrar\n",
      "Processing Record 49 of Set 8 | elat\n",
      "Processing Record 50 of Set 8 | ereymentau\n",
      "City not found. Skipping to next available city.\n",
      "Processing Record 0 of Set 9 | husavik\n",
      "Processing Record 1 of Set 9 | port lincoln\n",
      "Processing Record 2 of Set 9 | tadine\n",
      "Processing Record 3 of Set 9 | singkang\n",
      "Processing Record 4 of Set 9 | alyangula\n",
      "Processing Record 5 of Set 9 | butajira\n",
      "Processing Record 6 of Set 9 | mogadishu\n",
      "City not found. Skipping to next available city.\n",
      "Processing Record 7 of Set 9 | agua branca\n",
      "Processing Record 8 of Set 9 | matara\n",
      "Processing Record 9 of Set 9 | tual\n",
      "Processing Record 10 of Set 9 | dalmau\n",
      "Processing Record 11 of Set 9 | adwa\n",
      "Processing Record 12 of Set 9 | muravlenko\n",
      "Processing Record 13 of Set 9 | namibe\n",
      "Processing Record 14 of Set 9 | watertown\n",
      "Processing Record 15 of Set 9 | albanel\n",
      "Processing Record 16 of Set 9 | simpang\n",
      "Processing Record 17 of Set 9 | pilar\n",
      "Processing Record 18 of Set 9 | tessalit\n",
      "Processing Record 19 of Set 9 | rossosh\n",
      "Processing Record 20 of Set 9 | tibati\n",
      "City not found. Skipping to next available city.\n",
      "Processing Record 21 of Set 9 | paamiut\n",
      "Processing Record 22 of Set 9 | klaksvik\n",
      "Processing Record 23 of Set 9 | kosino\n",
      "Processing Record 24 of Set 9 | boali\n",
      "Processing Record 25 of Set 9 | oistins\n",
      "Processing Record 26 of Set 9 | buala\n",
      "Processing Record 27 of Set 9 | serafimovich\n",
      "Processing Record 28 of Set 9 | sobolevo\n",
      "Processing Record 29 of Set 9 | rawson\n",
      "Processing Record 30 of Set 9 | russell\n",
      "Processing Record 31 of Set 9 | briceno\n",
      "Processing Record 32 of Set 9 | rauma\n",
      "Processing Record 33 of Set 9 | baruun-urt\n",
      "Processing Record 34 of Set 9 | dores do indaia\n",
      "Processing Record 35 of Set 9 | ruston\n",
      "Processing Record 36 of Set 9 | bosaso\n",
      "Processing Record 37 of Set 9 | havelock\n",
      "Processing Record 38 of Set 9 | pokoynoye\n",
      "Processing Record 39 of Set 9 | uitenhage\n",
      "Processing Record 40 of Set 9 | houston\n",
      "Processing Record 41 of Set 9 | basay\n",
      "Processing Record 42 of Set 9 | barretos\n",
      "Processing Record 43 of Set 9 | kampot\n",
      "Processing Record 44 of Set 9 | zalantun\n",
      "Processing Record 45 of Set 9 | mogok\n",
      "Processing Record 46 of Set 9 | ucluelet\n",
      "City not found. Skipping to next available city.\n",
      "Processing Record 47 of Set 9 | bilma\n",
      "Processing Record 48 of Set 9 | garowe\n",
      "Processing Record 49 of Set 9 | srandakan\n",
      "Processing Record 50 of Set 9 | lorengau\n",
      "Processing Record 0 of Set 10 | opuwo\n",
      "City not found. Skipping to next available city.\n",
      "City not found. Skipping to next available city.\n",
      "Processing Record 1 of Set 10 | lafiagi\n",
      "Processing Record 2 of Set 10 | aklavik\n",
      "Processing Record 3 of Set 10 | oxapampa\n",
      "Processing Record 4 of Set 10 | marawi\n",
      "City not found. Skipping to next available city.\n",
      "Processing Record 5 of Set 10 | xingyi\n",
      "Processing Record 6 of Set 10 | talas\n",
      "Processing Record 7 of Set 10 | ambikapur\n",
      "Processing Record 8 of Set 10 | montmagny\n",
      "Processing Record 9 of Set 10 | tecoanapa\n",
      "Processing Record 10 of Set 10 | tiarei\n",
      "Processing Record 11 of Set 10 | port hedland\n",
      "Processing Record 12 of Set 10 | high rock\n",
      "Processing Record 13 of Set 10 | bac lieu\n",
      "Processing Record 14 of Set 10 | amazar\n",
      "Processing Record 15 of Set 10 | enshi\n",
      "Processing Record 16 of Set 10 | dubbo\n",
      "Processing Record 17 of Set 10 | broome\n",
      "Processing Record 18 of Set 10 | dauriya\n",
      "Processing Record 19 of Set 10 | naze\n",
      "Processing Record 20 of Set 10 | la macarena\n",
      "Processing Record 21 of Set 10 | palmer\n",
      "Processing Record 22 of Set 10 | teruel\n",
      "Processing Record 23 of Set 10 | kulhudhuffushi\n",
      "Processing Record 24 of Set 10 | ziebice\n",
      "Processing Record 25 of Set 10 | prince rupert\n",
      "Processing Record 26 of Set 10 | menongue\n",
      "Processing Record 27 of Set 10 | ravar\n",
      "Processing Record 28 of Set 10 | tahe\n",
      "Processing Record 29 of Set 10 | miri\n",
      "Processing Record 30 of Set 10 | chokurdakh\n",
      "City not found. Skipping to next available city.\n",
      "Processing Record 31 of Set 10 | noumea\n",
      "Processing Record 32 of Set 10 | gari\n",
      "Processing Record 33 of Set 10 | nicolas bravo\n",
      "Processing Record 34 of Set 10 | mount gambier\n",
      "Processing Record 35 of Set 10 | atasu\n",
      "Processing Record 36 of Set 10 | mirzapur\n",
      "City not found. Skipping to next available city.\n",
      "Processing Record 37 of Set 10 | flin flon\n",
      "City not found. Skipping to next available city.\n",
      "Processing Record 38 of Set 10 | severnyy-kospashskiy\n",
      "Processing Record 39 of Set 10 | fare\n",
      "Processing Record 40 of Set 10 | okhotsk\n",
      "Processing Record 41 of Set 10 | bubaque\n",
      "Processing Record 42 of Set 10 | havre-saint-pierre\n",
      "Processing Record 43 of Set 10 | bhatkal\n",
      "Processing Record 44 of Set 10 | montrose\n",
      "Processing Record 45 of Set 10 | ust-ilimsk\n",
      "Processing Record 46 of Set 10 | sesheke\n",
      "Processing Record 47 of Set 10 | vanavara\n",
      "Processing Record 48 of Set 10 | lima\n",
      "Processing Record 49 of Set 10 | bousso\n",
      "Processing Record 50 of Set 10 | banepa\n",
      "City not found. Skipping to next available city.\n",
      "Processing Record 0 of Set 11 | hatillo\n",
      "City not found. Skipping to next available city.\n",
      "Processing Record 1 of Set 11 | lohardaga\n",
      "Processing Record 2 of Set 11 | tsabong\n",
      "Processing Record 3 of Set 11 | codajas\n",
      "Processing Record 4 of Set 11 | mpika\n",
      "Processing Record 5 of Set 11 | san felipe\n",
      "Processing Record 6 of Set 11 | juybar\n",
      "Processing Record 7 of Set 11 | vao\n",
      "Processing Record 8 of Set 11 | fairview\n",
      "Processing Record 9 of Set 11 | arandis\n",
      "Processing Record 10 of Set 11 | ginir\n",
      "Processing Record 11 of Set 11 | sumbawanga\n",
      "Processing Record 12 of Set 11 | photharam\n",
      "Processing Record 13 of Set 11 | road town\n",
      "Processing Record 14 of Set 11 | payyannur\n",
      "Processing Record 15 of Set 11 | komsomolskiy\n",
      "Processing Record 16 of Set 11 | periam\n",
      "Processing Record 17 of Set 11 | puerto baquerizo moreno\n",
      "Processing Record 18 of Set 11 | labuhan\n",
      "Processing Record 19 of Set 11 | cap malheureux\n",
      "Processing Record 20 of Set 11 | machakos\n",
      "Processing Record 21 of Set 11 | omsukchan\n",
      "Processing Record 22 of Set 11 | okoneshnikovo\n",
      "Processing Record 23 of Set 11 | miraflores\n",
      "Processing Record 24 of Set 11 | santarem\n",
      "Processing Record 25 of Set 11 | mariestad\n"
     ]
    },
    {
     "name": "stdout",
     "output_type": "stream",
     "text": [
      "Processing Record 26 of Set 11 | tateyama\n",
      "Processing Record 27 of Set 11 | qaqortoq\n",
      "Processing Record 28 of Set 11 | birao\n",
      "Processing Record 29 of Set 11 | san jeronimo\n",
      "Processing Record 30 of Set 11 | padre bernardo\n",
      "Processing Record 31 of Set 11 | katobu\n",
      "Processing Record 32 of Set 11 | leesburg\n",
      "Processing Record 33 of Set 11 | salinopolis\n",
      "Processing Record 34 of Set 11 | nuevo progreso\n",
      "Processing Record 35 of Set 11 | mastic beach\n",
      "Processing Record 36 of Set 11 | walbrzych\n",
      "Processing Record 37 of Set 11 | te anau\n",
      "Processing Record 38 of Set 11 | detchino\n",
      "Processing Record 39 of Set 11 | haradok\n",
      "Processing Record 40 of Set 11 | bundaberg\n",
      "Processing Record 41 of Set 11 | batemans bay\n",
      "Processing Record 42 of Set 11 | kondinskoye\n",
      "Processing Record 43 of Set 11 | saldanha\n",
      "Processing Record 44 of Set 11 | skibbereen\n",
      "Processing Record 45 of Set 11 | coolum beach\n",
      "Processing Record 46 of Set 11 | makubetsu\n",
      "Processing Record 47 of Set 11 | pionki\n",
      "Processing Record 48 of Set 11 | kijang\n",
      "Processing Record 49 of Set 11 | muslyumovo\n",
      "Processing Record 50 of Set 11 | nouadhibou\n",
      "Processing Record 0 of Set 12 | guspini\n",
      "Processing Record 1 of Set 12 | areia branca\n",
      "Processing Record 2 of Set 12 | eureka\n",
      "Processing Record 3 of Set 12 | mitu\n",
      "Processing Record 4 of Set 12 | hualmay\n",
      "Processing Record 5 of Set 12 | talcahuano\n",
      "Processing Record 6 of Set 12 | grand gaube\n",
      "Processing Record 7 of Set 12 | piacabucu\n",
      "Processing Record 8 of Set 12 | chepareria\n",
      "Processing Record 9 of Set 12 | candido mota\n",
      "Processing Record 10 of Set 12 | vardo\n",
      "Processing Record 11 of Set 12 | yingkou\n",
      "Processing Record 12 of Set 12 | lahad datu\n",
      "Processing Record 13 of Set 12 | mikhaylovka\n",
      "Processing Record 14 of Set 12 | ajdabiya\n",
      "Processing Record 15 of Set 12 | anadyr\n",
      "Processing Record 16 of Set 12 | koupela\n",
      "Processing Record 17 of Set 12 | mao\n",
      "Processing Record 18 of Set 12 | cabo san lucas\n",
      "Processing Record 19 of Set 12 | nanakuli\n",
      "Processing Record 20 of Set 12 | lazaro cardenas\n",
      "Processing Record 21 of Set 12 | sioux lookout\n",
      "Processing Record 22 of Set 12 | lakes entrance\n",
      "Processing Record 23 of Set 12 | sorong\n",
      "City not found. Skipping to next available city.\n",
      "Processing Record 24 of Set 12 | fontem\n",
      "Processing Record 25 of Set 12 | ojinaga\n",
      "-----------------------------\n",
      "Data Retrieval Complete\n",
      "-----------------------------\n"
     ]
    }
   ],
   "source": [
    "url = \"http://api.openweathermap.org/data/2.5/weather?units=imperial&appid=\" + weather_api_key\n",
    "record = 0\n",
    "sets = 1\n",
    "\n",
    "# create empty lists to hold data\n",
    "city_list = []\n",
    "lat_list = []\n",
    "lng_list = []\n",
    "maxtemp_list = []\n",
    "humidity_list = []\n",
    "cloudiness_list = []\n",
    "windspeed_list = []\n",
    "country_list = []\n",
    "date_list = []\n",
    "\n",
    "print(\"Beginning Data Retrieval\")\n",
    "print(\"-----------------------------\")\n",
    "\n",
    "# gather weather data for cities\n",
    "for index, city in enumerate(cities):\n",
    "    \n",
    "    # set query url to generate json response for cities\n",
    "    query_url = url + \"&q=\" + city\n",
    "    response = requests.get(query_url).json()\n",
    "    \n",
    "    try:\n",
    "        city_list.append(response[\"name\"])\n",
    "        lat_list.append(response[\"coord\"][\"lat\"])\n",
    "        lng_list.append(response[\"coord\"][\"lon\"])\n",
    "        maxtemp_list.append(response[\"main\"][\"temp_max\"])\n",
    "        humidity_list.append(response[\"main\"][\"humidity\"])\n",
    "        cloudiness_list.append(response[\"clouds\"][\"all\"])\n",
    "        windspeed_list.append(response[\"wind\"][\"speed\"])\n",
    "        country_list.append(response[\"sys\"][\"country\"])\n",
    "        date_list.append(response[\"dt\"])\n",
    "        \n",
    "        # new set when record hits 50\n",
    "        if record == 50:\n",
    "            record = 0\n",
    "            sets = sets + 1\n",
    "        \n",
    "        # append record counter\n",
    "        else:\n",
    "            record = record + 1\n",
    "        \n",
    "        # print out data\n",
    "        print(f\"Processing Record {record} of Set {sets} | {city}\")\n",
    "        \n",
    "    except:\n",
    "        print(\"City not found. Skipping to next available city.\")\n",
    "\n",
    "print(\"-----------------------------\")\n",
    "print(\"Data Retrieval Complete\")\n",
    "print(\"-----------------------------\")"
   ]
  },
  {
   "cell_type": "markdown",
   "metadata": {},
   "source": [
    "### Convert Raw Data to DataFrame\n",
    "* Export the city data into a .csv.\n",
    "* Display the DataFrame"
   ]
  },
  {
   "cell_type": "code",
   "execution_count": 6,
   "metadata": {},
   "outputs": [
    {
     "data": {
      "text/html": [
       "<div>\n",
       "<style scoped>\n",
       "    .dataframe tbody tr th:only-of-type {\n",
       "        vertical-align: middle;\n",
       "    }\n",
       "\n",
       "    .dataframe tbody tr th {\n",
       "        vertical-align: top;\n",
       "    }\n",
       "\n",
       "    .dataframe thead th {\n",
       "        text-align: right;\n",
       "    }\n",
       "</style>\n",
       "<table border=\"1\" class=\"dataframe\">\n",
       "  <thead>\n",
       "    <tr style=\"text-align: right;\">\n",
       "      <th></th>\n",
       "      <th>City</th>\n",
       "      <th>Lat</th>\n",
       "      <th>Lng</th>\n",
       "      <th>Max Temp</th>\n",
       "      <th>Humidity</th>\n",
       "      <th>Cloudiness</th>\n",
       "      <th>Wind Speed</th>\n",
       "      <th>Country</th>\n",
       "      <th>Date</th>\n",
       "    </tr>\n",
       "  </thead>\n",
       "  <tbody>\n",
       "    <tr>\n",
       "      <th>0</th>\n",
       "      <td>Tasiilaq</td>\n",
       "      <td>65.6145</td>\n",
       "      <td>-37.6368</td>\n",
       "      <td>39.36</td>\n",
       "      <td>87</td>\n",
       "      <td>76</td>\n",
       "      <td>9.31</td>\n",
       "      <td>GL</td>\n",
       "      <td>1663043275</td>\n",
       "    </tr>\n",
       "    <tr>\n",
       "      <th>1</th>\n",
       "      <td>Beringovskiy</td>\n",
       "      <td>63.0500</td>\n",
       "      <td>179.3167</td>\n",
       "      <td>44.96</td>\n",
       "      <td>81</td>\n",
       "      <td>98</td>\n",
       "      <td>17.45</td>\n",
       "      <td>RU</td>\n",
       "      <td>1663043276</td>\n",
       "    </tr>\n",
       "    <tr>\n",
       "      <th>2</th>\n",
       "      <td>Kapaa</td>\n",
       "      <td>22.0752</td>\n",
       "      <td>-159.3190</td>\n",
       "      <td>82.38</td>\n",
       "      <td>76</td>\n",
       "      <td>20</td>\n",
       "      <td>10.36</td>\n",
       "      <td>US</td>\n",
       "      <td>1663043277</td>\n",
       "    </tr>\n",
       "    <tr>\n",
       "      <th>3</th>\n",
       "      <td>Butaritari</td>\n",
       "      <td>3.0707</td>\n",
       "      <td>172.7902</td>\n",
       "      <td>81.16</td>\n",
       "      <td>77</td>\n",
       "      <td>10</td>\n",
       "      <td>9.37</td>\n",
       "      <td>KI</td>\n",
       "      <td>1663043278</td>\n",
       "    </tr>\n",
       "    <tr>\n",
       "      <th>4</th>\n",
       "      <td>Khatanga</td>\n",
       "      <td>71.9667</td>\n",
       "      <td>102.5000</td>\n",
       "      <td>39.18</td>\n",
       "      <td>72</td>\n",
       "      <td>99</td>\n",
       "      <td>9.91</td>\n",
       "      <td>RU</td>\n",
       "      <td>1663043278</td>\n",
       "    </tr>\n",
       "  </tbody>\n",
       "</table>\n",
       "</div>"
      ],
      "text/plain": [
       "           City      Lat       Lng  Max Temp  Humidity  Cloudiness  \\\n",
       "0      Tasiilaq  65.6145  -37.6368     39.36        87          76   \n",
       "1  Beringovskiy  63.0500  179.3167     44.96        81          98   \n",
       "2         Kapaa  22.0752 -159.3190     82.38        76          20   \n",
       "3    Butaritari   3.0707  172.7902     81.16        77          10   \n",
       "4      Khatanga  71.9667  102.5000     39.18        72          99   \n",
       "\n",
       "   Wind Speed Country        Date  \n",
       "0        9.31      GL  1663043275  \n",
       "1       17.45      RU  1663043276  \n",
       "2       10.36      US  1663043277  \n",
       "3        9.37      KI  1663043278  \n",
       "4        9.91      RU  1663043278  "
      ]
     },
     "execution_count": 6,
     "metadata": {},
     "output_type": "execute_result"
    }
   ],
   "source": [
    "city_df = pd.DataFrame({\n",
    "    \"City\": city_list,\n",
    "    \"Lat\": lat_list,\n",
    "    \"Lng\": lng_list,\n",
    "    \"Max Temp\": maxtemp_list,\n",
    "    \"Humidity\": humidity_list,\n",
    "    \"Cloudiness\": cloudiness_list,\n",
    "    \"Wind Speed\": windspeed_list,\n",
    "    \"Country\": country_list,\n",
    "    \"Date\": date_list\n",
    "})\n",
    "\n",
    "\n",
    "# show header rows\n",
    "city_df.head()"
   ]
  },
  {
   "cell_type": "code",
   "execution_count": 7,
   "metadata": {},
   "outputs": [
    {
     "data": {
      "text/html": [
       "<div>\n",
       "<style scoped>\n",
       "    .dataframe tbody tr th:only-of-type {\n",
       "        vertical-align: middle;\n",
       "    }\n",
       "\n",
       "    .dataframe tbody tr th {\n",
       "        vertical-align: top;\n",
       "    }\n",
       "\n",
       "    .dataframe thead th {\n",
       "        text-align: right;\n",
       "    }\n",
       "</style>\n",
       "<table border=\"1\" class=\"dataframe\">\n",
       "  <thead>\n",
       "    <tr style=\"text-align: right;\">\n",
       "      <th></th>\n",
       "      <th>Lat</th>\n",
       "      <th>Lng</th>\n",
       "      <th>Max Temp</th>\n",
       "      <th>Humidity</th>\n",
       "      <th>Cloudiness</th>\n",
       "      <th>Wind Speed</th>\n",
       "      <th>Date</th>\n",
       "    </tr>\n",
       "  </thead>\n",
       "  <tbody>\n",
       "    <tr>\n",
       "      <th>count</th>\n",
       "      <td>586.000000</td>\n",
       "      <td>586.000000</td>\n",
       "      <td>586.000000</td>\n",
       "      <td>586.000000</td>\n",
       "      <td>586.000000</td>\n",
       "      <td>586.000000</td>\n",
       "      <td>5.860000e+02</td>\n",
       "    </tr>\n",
       "    <tr>\n",
       "      <th>mean</th>\n",
       "      <td>19.283093</td>\n",
       "      <td>16.120632</td>\n",
       "      <td>66.472526</td>\n",
       "      <td>73.100683</td>\n",
       "      <td>56.723549</td>\n",
       "      <td>7.831195</td>\n",
       "      <td>1.663043e+09</td>\n",
       "    </tr>\n",
       "    <tr>\n",
       "      <th>std</th>\n",
       "      <td>32.577187</td>\n",
       "      <td>90.076671</td>\n",
       "      <td>14.277279</td>\n",
       "      <td>19.549152</td>\n",
       "      <td>38.916593</td>\n",
       "      <td>5.637293</td>\n",
       "      <td>1.514085e+02</td>\n",
       "    </tr>\n",
       "    <tr>\n",
       "      <th>min</th>\n",
       "      <td>-54.800000</td>\n",
       "      <td>-179.166700</td>\n",
       "      <td>31.840000</td>\n",
       "      <td>12.000000</td>\n",
       "      <td>0.000000</td>\n",
       "      <td>0.000000</td>\n",
       "      <td>1.663043e+09</td>\n",
       "    </tr>\n",
       "    <tr>\n",
       "      <th>25%</th>\n",
       "      <td>-7.742125</td>\n",
       "      <td>-63.509000</td>\n",
       "      <td>54.985000</td>\n",
       "      <td>63.000000</td>\n",
       "      <td>19.250000</td>\n",
       "      <td>3.760000</td>\n",
       "      <td>1.663043e+09</td>\n",
       "    </tr>\n",
       "    <tr>\n",
       "      <th>50%</th>\n",
       "      <td>22.824600</td>\n",
       "      <td>20.677100</td>\n",
       "      <td>69.230000</td>\n",
       "      <td>77.000000</td>\n",
       "      <td>69.000000</td>\n",
       "      <td>6.780000</td>\n",
       "      <td>1.663044e+09</td>\n",
       "    </tr>\n",
       "    <tr>\n",
       "      <th>75%</th>\n",
       "      <td>46.682700</td>\n",
       "      <td>92.472975</td>\n",
       "      <td>78.007500</td>\n",
       "      <td>88.000000</td>\n",
       "      <td>98.000000</td>\n",
       "      <td>10.360000</td>\n",
       "      <td>1.663044e+09</td>\n",
       "    </tr>\n",
       "    <tr>\n",
       "      <th>max</th>\n",
       "      <td>78.218600</td>\n",
       "      <td>179.316700</td>\n",
       "      <td>101.860000</td>\n",
       "      <td>100.000000</td>\n",
       "      <td>100.000000</td>\n",
       "      <td>31.230000</td>\n",
       "      <td>1.663044e+09</td>\n",
       "    </tr>\n",
       "  </tbody>\n",
       "</table>\n",
       "</div>"
      ],
      "text/plain": [
       "              Lat         Lng    Max Temp    Humidity  Cloudiness  Wind Speed  \\\n",
       "count  586.000000  586.000000  586.000000  586.000000  586.000000  586.000000   \n",
       "mean    19.283093   16.120632   66.472526   73.100683   56.723549    7.831195   \n",
       "std     32.577187   90.076671   14.277279   19.549152   38.916593    5.637293   \n",
       "min    -54.800000 -179.166700   31.840000   12.000000    0.000000    0.000000   \n",
       "25%     -7.742125  -63.509000   54.985000   63.000000   19.250000    3.760000   \n",
       "50%     22.824600   20.677100   69.230000   77.000000   69.000000    6.780000   \n",
       "75%     46.682700   92.472975   78.007500   88.000000   98.000000   10.360000   \n",
       "max     78.218600  179.316700  101.860000  100.000000  100.000000   31.230000   \n",
       "\n",
       "               Date  \n",
       "count  5.860000e+02  \n",
       "mean   1.663043e+09  \n",
       "std    1.514085e+02  \n",
       "min    1.663043e+09  \n",
       "25%    1.663043e+09  \n",
       "50%    1.663044e+09  \n",
       "75%    1.663044e+09  \n",
       "max    1.663044e+09  "
      ]
     },
     "execution_count": 7,
     "metadata": {},
     "output_type": "execute_result"
    }
   ],
   "source": [
    "city_df.describe()"
   ]
  },
  {
   "cell_type": "markdown",
   "metadata": {},
   "source": [
    "## Plotting the Data\n",
    "* Use proper labelling of the plots using plot titles (including date of analysis) and axes labels.\n",
    "* Save the plotted figures as .pngs."
   ]
  },
  {
   "cell_type": "markdown",
   "metadata": {},
   "source": [
    "## Latitude vs. Temperature Plot"
   ]
  },
  {
   "cell_type": "code",
   "execution_count": 8,
   "metadata": {
    "scrolled": true
   },
   "outputs": [
    {
     "data": {
      "image/png": "[encoded data removed]",
      "text/plain": [
       "<Figure size 432x288 with 1 Axes>"
      ]
     },
     "metadata": {
      "needs_background": "light"
     },
     "output_type": "display_data"
    }
   ],
   "source": [
    "plt.scatter(city_df[\"Lat\"], city_df[\"Max Temp\"], facecolor=\"aqua\", edgecolor=\"b\")\n",
    "\n",
    "# title, axes, and gridlines\n",
    "plt.title(\"City Latitude vs. Max Temp\")\n",
    "plt.xlabel(\"Latitude\")\n",
    "plt.ylabel(\"Max Temperature (F)\")\n",
    "plt.grid(alpha=0.25)\n",
    "\n",
    "# save png\n",
    "plt.savefig(\"../output_data/lat_vs_temp_plot.png\")"
   ]
  },
  {
   "cell_type": "markdown",
   "metadata": {},
   "source": [
    "## Latitude vs. Humidity Plot"
   ]
  },
  {
   "cell_type": "code",
   "execution_count": 9,
   "metadata": {},
   "outputs": [
    {
     "data": {
      "image/png": "[encoded data removed]",
      "text/plain": [
       "<Figure size 432x288 with 1 Axes>"
      ]
     },
     "metadata": {
      "needs_background": "light"
     },
     "output_type": "display_data"
    }
   ],
   "source": [
    "plt.scatter(city_df[\"Lat\"], city_df[\"Humidity\"], facecolor=\"aqua\", edgecolor=\"b\")\n",
    "\n",
    "# title, axes, and gridlines\n",
    "plt.title(\"City Latitude vs. Humidity\")\n",
    "plt.xlabel(\"Latitude\")\n",
    "plt.ylabel(\"Humidity\")\n",
    "plt.grid(alpha=0.25)\n",
    "\n",
    "# save png\n",
    "plt.savefig(\"../output_data/lat_vs_Humidity_plot.png\")"
   ]
  },
  {
   "cell_type": "markdown",
   "metadata": {},
   "source": [
    "## Latitude vs. Cloudiness Plot"
   ]
  },
  {
   "cell_type": "code",
   "execution_count": 10,
   "metadata": {},
   "outputs": [
    {
     "data": {
      "image/png": "[encoded data removed]",
      "text/plain": [
       "<Figure size 432x288 with 1 Axes>"
      ]
     },
     "metadata": {
      "needs_background": "light"
     },
     "output_type": "display_data"
    }
   ],
   "source": [
    "plt.scatter(city_df[\"Lat\"], city_df[\"Cloudiness\"], facecolor=\"aqua\", edgecolor=\"b\")\n",
    "\n",
    "# title, axes, and gridlines\n",
    "plt.title(\"City Latitude vs. Cloudiness\")\n",
    "plt.xlabel(\"Latitude\")\n",
    "plt.ylabel(\"Cloudiness\")\n",
    "plt.grid(alpha=0.25)\n",
    "\n",
    "# save png\n",
    "plt.savefig(\"../output_data/lat_vs_cloudiness_plot.png\")"
   ]
  },
  {
   "cell_type": "markdown",
   "metadata": {},
   "source": [
    "## Latitude vs. Wind Speed Plot"
   ]
  },
  {
   "cell_type": "code",
   "execution_count": 11,
   "metadata": {},
   "outputs": [
    {
     "data": {
      "image/png": "[encoded data removed]",
      "text/plain": [
       "<Figure size 432x288 with 1 Axes>"
      ]
     },
     "metadata": {
      "needs_background": "light"
     },
     "output_type": "display_data"
    }
   ],
   "source": [
    "plt.scatter(city_df[\"Lat\"], city_df[\"Wind Speed\"], facecolor=\"aqua\", edgecolor=\"b\")\n",
    "\n",
    "# title, axes, and gridlines\n",
    "plt.title(\"City Latitude vs. Wind Speed\")\n",
    "plt.xlabel(\"Latitude\")\n",
    "plt.ylabel(\"Wind Speed\")\n",
    "plt.grid(alpha=0.25)\n",
    "\n",
    "# save png\n",
    "plt.savefig(\"../output_data/lat_vs_Wind_Speed_plot.png\")"
   ]
  },
  {
   "cell_type": "markdown",
   "metadata": {},
   "source": [
    "## Linear Regression"
   ]
  },
  {
   "cell_type": "code",
   "execution_count": 12,
   "metadata": {},
   "outputs": [],
   "source": [
    "n_hem = city_df.loc[city_df[\"Lat\"] >= 0, :]\n",
    "s_hem = city_df.loc[city_df[\"Lat\"] < 0, :]"
   ]
  },
  {
   "cell_type": "markdown",
   "metadata": {},
   "source": [
    "###  Max Temp vs. Latitude Linear Regression"
   ]
  },
  {
   "cell_type": "markdown",
   "metadata": {},
   "source": [
    "####  Northern Hemisphere - Max Temp vs. Latitude Linear Regression"
   ]
  },
  {
   "cell_type": "code",
   "execution_count": 13,
   "metadata": {},
   "outputs": [
    {
     "name": "stdout",
     "output_type": "stream",
     "text": [
      "The r-value is: 0.6418318003032712\n",
      "As cities in the northern hemisphere move closer to the north pole and farther from the equator, temperatures drop.\n",
      "This proves a strong negative correlation between latitude and tempuratures in the northern hemisphere.\n"
     ]
    },
    {
     "data": {
      "image/png": "[encoded data removed]",
      "text/plain": [
       "<Figure size 432x288 with 1 Axes>"
      ]
     },
     "metadata": {
      "needs_background": "light"
     },
     "output_type": "display_data"
    }
   ],
   "source": [
    "x_vals = n_hem[\"Lat\"]\n",
    "y_vals = n_hem[\"Max Temp\"]\n",
    "(slope, intercept, rvalue, pvalue, stderr) = linregress(x_vals, y_vals)\n",
    "regress_vals = x_vals * slope + intercept\n",
    "line_eq = \"y = \" + str(round(slope,2)) + \"x +\" + str(round(intercept,2))\n",
    "\n",
    "plt.scatter(x_vals,y_vals, facecolor=\"aqua\", edgecolor=\"b\")\n",
    "plt.plot(x_vals,regress_vals,\"r-\")\n",
    "plt.title(\"N. Hemisphere - Max Temp vs. Latitude\")\n",
    "plt.xlabel('Latitude')\n",
    "plt.ylabel('Max Temperature (F)')\n",
    "plt.annotate(line_eq,(0,0),fontsize=15,color=\"red\")\n",
    "\n",
    "print(f\"The r-value is: {rvalue**2}\")\n",
    "print(\"As cities in the northern hemisphere move closer to the north pole and farther from the equator, temperatures drop.\")\n",
    "print(\"This proves a strong negative correlation between latitude and tempuratures in the northern hemisphere.\")\n",
    "plt.savefig(\"../output_data/nhem_temp_v_lat_plot.png\")"
   ]
  },
  {
   "cell_type": "markdown",
   "metadata": {},
   "source": [
    "####  Southern Hemisphere - Max Temp vs. Latitude Linear Regression"
   ]
  },
  {
   "cell_type": "code",
   "execution_count": 14,
   "metadata": {},
   "outputs": [
    {
     "name": "stdout",
     "output_type": "stream",
     "text": [
      "The r-value is: 0.5998303450548377\n",
      "As some cities in the southern hemisphere move closer to the equator, temperatures rise.\n",
      "This proves a slight positive correlation between latitude and temperature in the southern hemisphere.\n"
     ]
    },
    {
     "data": {
      "image/png": "[encoded data removed]",
      "text/plain": [
       "<Figure size 432x288 with 1 Axes>"
      ]
     },
     "metadata": {
      "needs_background": "light"
     },
     "output_type": "display_data"
    }
   ],
   "source": [
    "x_vals = s_hem[\"Lat\"]\n",
    "y_vals = s_hem[\"Max Temp\"]\n",
    "(slope, intercept, rvalue, pvalue, stderr) = linregress(x_vals, y_vals)\n",
    "regress_vals = x_vals * slope + intercept\n",
    "line_eq = \"y = \" + str(round(slope,2)) + \"x +\" + str(round(intercept,2))\n",
    "\n",
    "plt.scatter(x_vals,y_vals, facecolor=\"aqua\", edgecolor=\"b\")\n",
    "plt.plot(x_vals,regress_vals,\"r-\")\n",
    "plt.title(\"S. Hemisphere - Max Temp vs. Latitude\")\n",
    "plt.xlabel('Latitude')\n",
    "plt.ylabel('Max Temperature (F)')\n",
    "plt.annotate(line_eq,(-55,93),fontsize=15,color=\"red\")\n",
    "\n",
    "print(f\"The r-value is: {rvalue**2}\")\n",
    "print(\"As some cities in the southern hemisphere move closer to the equator, temperatures rise.\")\n",
    "print(\"This proves a slight positive correlation between latitude and temperature in the southern hemisphere.\")\n",
    "plt.savefig(\"../output_data/shem_temp_v_lat_plot.png\")"
   ]
  },
  {
   "cell_type": "markdown",
   "metadata": {},
   "source": [
    "### Humidity (%) vs. Latitude Linear Regression"
   ]
  },
  {
   "cell_type": "markdown",
   "metadata": {},
   "source": [
    "####  Northern Hemisphere - Humidity (%) vs. Latitude Linear Regression"
   ]
  },
  {
   "cell_type": "code",
   "execution_count": 15,
   "metadata": {},
   "outputs": [
    {
     "name": "stdout",
     "output_type": "stream",
     "text": [
      "The r-value is: 0.00031300915757120364\n",
      "There is a slight positive correlation between humidity and latitude for cities in the northern hemisphere.\n"
     ]
    },
    {
     "data": {
      "image/png": "[encoded data removed]",
      "text/plain": [
       "<Figure size 432x288 with 1 Axes>"
      ]
     },
     "metadata": {
      "needs_background": "light"
     },
     "output_type": "display_data"
    }
   ],
   "source": [
    "x_vals = n_hem[\"Lat\"]\n",
    "y_vals = n_hem[\"Humidity\"]\n",
    "(slope, intercept, rvalue, pvalue, stderr) = linregress(x_vals, y_vals)\n",
    "regress_vals = x_vals * slope + intercept\n",
    "line_eq = \"y = \" + str(round(slope,2)) + \"x +\" + str(round(intercept,2))\n",
    "\n",
    "plt.scatter(x_vals,y_vals, facecolor=\"aqua\", edgecolor=\"b\")\n",
    "plt.plot(x_vals,regress_vals,\"r-\")\n",
    "plt.title(\"N. Hemisphere - Humidity (%) vs. Latitude\")\n",
    "plt.xlabel('Latitude')\n",
    "plt.ylabel('Humidity (%)')\n",
    "plt.annotate(line_eq,(50,10),fontsize=15,color=\"red\")\n",
    "\n",
    "print(f\"The r-value is: {rvalue**2}\")\n",
    "print(\"There is a slight positive correlation between humidity and latitude for cities in the northern hemisphere.\")\n",
    "\n",
    "plt.savefig(\"../output_data/nhem_humidity_v_lat_plot.png\")"
   ]
  },
  {
   "cell_type": "markdown",
   "metadata": {},
   "source": [
    "####  Southern Hemisphere - Humidity (%) vs. Latitude Linear Regression"
   ]
  },
  {
   "cell_type": "code",
   "execution_count": 16,
   "metadata": {},
   "outputs": [
    {
     "name": "stdout",
     "output_type": "stream",
     "text": [
      "The r-value is: 0.0019360248938404935\n",
      "There is a little correlation between humidity and latitude for cities in the southern hemisphere.\n"
     ]
    },
    {
     "data": {
      "image/png": "[encoded data removed]",
      "text/plain": [
       "<Figure size 432x288 with 1 Axes>"
      ]
     },
     "metadata": {
      "needs_background": "light"
     },
     "output_type": "display_data"
    }
   ],
   "source": [
    "x_vals = s_hem[\"Lat\"]\n",
    "y_vals = s_hem[\"Humidity\"]\n",
    "(slope, intercept, rvalue, pvalue, stderr) = linregress(x_vals, y_vals)\n",
    "regress_vals = x_vals * slope + intercept\n",
    "line_eq = \"y = \" + str(round(slope,2)) + \"x +\" + str(round(intercept,2))\n",
    "\n",
    "plt.scatter(x_vals,y_vals, facecolor=\"aqua\", edgecolor=\"b\")\n",
    "plt.plot(x_vals,regress_vals,\"r-\")\n",
    "plt.title(\"S. Hemisphere - Humidity (%) vs. Latitude\")\n",
    "plt.xlabel('Latitude')\n",
    "plt.ylabel('Humidity (%)')\n",
    "plt.annotate(line_eq,(-25,20),fontsize=15,color=\"red\")\n",
    "\n",
    "print(f\"The r-value is: {rvalue**2}\")\n",
    "print(\"There is a little correlation between humidity and latitude for cities in the southern hemisphere.\")\n",
    "plt.savefig(\"../output_data/shem_humidity_v_lat_plot.png\")"
   ]
  },
  {
   "cell_type": "markdown",
   "metadata": {},
   "source": [
    "### Cloudiness (%) vs. Latitude Linear Regression"
   ]
  },
  {
   "cell_type": "markdown",
   "metadata": {},
   "source": [
    "####  Northern Hemisphere - Cloudiness (%) vs. Latitude Linear Regression"
   ]
  },
  {
   "cell_type": "code",
   "execution_count": 17,
   "metadata": {},
   "outputs": [
    {
     "name": "stdout",
     "output_type": "stream",
     "text": [
      "The r-value is: 0.004862096751351625\n",
      "There is a slight positive correlation between cloudiness and latitude for cities in the northern hemisphere.\n"
     ]
    },
    {
     "data": {
      "image/png": "[encoded data removed]",
      "text/plain": [
       "<Figure size 432x288 with 1 Axes>"
      ]
     },
     "metadata": {
      "needs_background": "light"
     },
     "output_type": "display_data"
    }
   ],
   "source": [
    "x_vals = n_hem[\"Lat\"]\n",
    "y_vals = n_hem[\"Cloudiness\"]\n",
    "(slope, intercept, rvalue, pvalue, stderr) = linregress(x_vals, y_vals)\n",
    "regress_vals = x_vals * slope + intercept\n",
    "line_eq = \"y = \" + str(round(slope,2)) + \"x +\" + str(round(intercept,2))\n",
    "\n",
    "plt.scatter(x_vals,y_vals, facecolor=\"aqua\", edgecolor=\"b\")\n",
    "plt.plot(x_vals,regress_vals,\"r-\")\n",
    "plt.title(\"N. Hemisphere - Cloudiness (%) vs. Latitude\")\n",
    "plt.xlabel('Latitude')\n",
    "plt.ylabel('Cloudiness (%)')\n",
    "plt.annotate(line_eq,(50,10),fontsize=15,color=\"red\")\n",
    "\n",
    "print(f\"The r-value is: {rvalue**2}\")\n",
    "print(\"There is a slight positive correlation between cloudiness and latitude for cities in the northern hemisphere.\")\n",
    "\n",
    "plt.savefig(\"../output_data/nhem_cloudiness_v_lat_plot.png\")"
   ]
  },
  {
   "cell_type": "markdown",
   "metadata": {},
   "source": [
    "####  Southern Hemisphere - Cloudiness (%) vs. Latitude Linear Regression"
   ]
  },
  {
   "cell_type": "code",
   "execution_count": 18,
   "metadata": {},
   "outputs": [
    {
     "name": "stdout",
     "output_type": "stream",
     "text": [
      "The r-value is: 0.006856742589325783\n",
      "There is a little correlation between cloudiness and latitude for cities in the southern hemisphere.\n"
     ]
    },
    {
     "data": {
      "image/png": "[encoded data removed]",
      "text/plain": [
       "<Figure size 432x288 with 1 Axes>"
      ]
     },
     "metadata": {
      "needs_background": "light"
     },
     "output_type": "display_data"
    }
   ],
   "source": [
    "x_vals = s_hem[\"Lat\"]\n",
    "y_vals = s_hem[\"Cloudiness\"]\n",
    "(slope, intercept, rvalue, pvalue, stderr) = linregress(x_vals, y_vals)\n",
    "regress_vals = x_vals * slope + intercept\n",
    "line_eq = \"y = \" + str(round(slope,2)) + \"x +\" + str(round(intercept,2))\n",
    "\n",
    "plt.scatter(x_vals,y_vals, facecolor=\"aqua\", edgecolor=\"b\")\n",
    "plt.plot(x_vals,regress_vals,\"r-\")\n",
    "plt.title(\"S. Hemisphere - Cloudiness (%) vs. Latitude\")\n",
    "plt.xlabel('Latitude')\n",
    "plt.ylabel('Cloudiness (%)')\n",
    "plt.annotate(line_eq,(-50,45),fontsize=15,color=\"red\")\n",
    "\n",
    "print(f\"The r-value is: {rvalue**2}\")\n",
    "print(\"There is a little correlation between cloudiness and latitude for cities in the southern hemisphere.\")\n",
    "\n",
    "plt.savefig(\"../output_data/shem_cloudiness_v_lat_plot.png\")"
   ]
  },
  {
   "cell_type": "markdown",
   "metadata": {},
   "source": [
    "### Wind Speed (m/s) vs. Latitude Linear Regression"
   ]
  },
  {
   "cell_type": "markdown",
   "metadata": {},
   "source": [
    "####  Northern Hemisphere - Wind Speed (mph) vs. Latitude Linear Regression"
   ]
  },
  {
   "cell_type": "code",
   "execution_count": 19,
   "metadata": {},
   "outputs": [
    {
     "name": "stdout",
     "output_type": "stream",
     "text": [
      "The r-value is: 0.019994234793783528\n",
      "There is a little correlation between wind speed and latitude for cities in the northern hemisphere.\n"
     ]
    },
    {
     "data": {
      "image/png": "[encoded data removed]",
      "text/plain": [
       "<Figure size 432x288 with 1 Axes>"
      ]
     },
     "metadata": {
      "needs_background": "light"
     },
     "output_type": "display_data"
    }
   ],
   "source": [
    "x_vals = n_hem[\"Lat\"]\n",
    "y_vals = n_hem[\"Wind Speed\"]\n",
    "(slope, intercept, rvalue, pvalue, stderr) = linregress(x_vals, y_vals)\n",
    "regress_vals = x_vals * slope + intercept\n",
    "line_eq = \"y = \" + str(round(slope,2)) + \"x +\" + str(round(intercept,2))\n",
    "\n",
    "plt.scatter(x_vals,y_vals, facecolor=\"aqua\", edgecolor=\"b\")\n",
    "plt.plot(x_vals,regress_vals,\"r-\")\n",
    "plt.title(\"N. Hemisphere - Wind Speed (mph) vs. Latitude\")\n",
    "plt.xlabel('Latitude')\n",
    "plt.ylabel('Wind Speed (mph)')\n",
    "plt.annotate(line_eq,(5,35),fontsize=15,color=\"red\")\n",
    "\n",
    "print(f\"The r-value is: {rvalue**2}\")\n",
    "print(\"There is a little correlation between wind speed and latitude for cities in the northern hemisphere.\")\n",
    "\n",
    "plt.savefig(\"../output_data/nhem_wind_v_lat_plot.png\")"
   ]
  },
  {
   "cell_type": "markdown",
   "metadata": {},
   "source": [
    "####  Southern Hemisphere - Wind Speed (mph) vs. Latitude Linear Regression"
   ]
  },
  {
   "cell_type": "code",
   "execution_count": 20,
   "metadata": {},
   "outputs": [
    {
     "name": "stdout",
     "output_type": "stream",
     "text": [
      "The r-value is: 0.028993859285373534\n",
      "There is a slightly negative correlation between wind speed and latitude for cities in the southern hemisphere.\n"
     ]
    },
    {
     "data": {
      "image/png": "[encoded data removed]",
      "text/plain": [
       "<Figure size 432x288 with 1 Axes>"
      ]
     },
     "metadata": {
      "needs_background": "light"
     },
     "output_type": "display_data"
    }
   ],
   "source": [
    "x_vals = s_hem[\"Lat\"]\n",
    "y_vals = s_hem[\"Wind Speed\"]\n",
    "(slope, intercept, rvalue, pvalue, stderr) = linregress(x_vals, y_vals)\n",
    "regress_vals = x_vals * slope + intercept\n",
    "line_eq = \"y = \" + str(round(slope,2)) + \"x +\" + str(round(intercept,2))\n",
    "\n",
    "plt.scatter(x_vals,y_vals, facecolor=\"aqua\", edgecolor=\"b\")\n",
    "plt.plot(x_vals,regress_vals,\"r-\")\n",
    "plt.title(\"S. Hemisphere - Wind Speed (mph)  vs. Latitude\")\n",
    "plt.xlabel('Latitude')\n",
    "plt.ylabel('Wind Speed (mph)')\n",
    "plt.annotate(line_eq,(-25,23),fontsize=15,color=\"red\")\n",
    "\n",
    "print(f\"The r-value is: {rvalue**2}\")\n",
    "print(\"There is a slightly negative correlation between wind speed and latitude for cities in the southern hemisphere.\")\n",
    "\n",
    "plt.savefig(\"../output_data/shem_wind_v_lat_plot.png\")"
   ]
  },
  {
   "cell_type": "code",
   "execution_count": null,
   "metadata": {},
   "outputs": [],
   "source": []
  }
 ],
 "metadata": {
  "anaconda-cloud": {},
  "kernel_info": {
   "name": "python3"
  },
  "kernelspec": {
   "display_name": "Python 3 (ipykernel)",
   "language": "python",
   "name": "python3"
  },
  "language_info": {
   "codemirror_mode": {
    "name": "ipython",
    "version": 3
   },
   "file_extension": ".py",
   "mimetype": "text/x-python",
   "name": "python",
   "nbconvert_exporter": "python",
   "pygments_lexer": "ipython3",
   "version": "3.9.12"
  },
  "latex_envs": {
   "LaTeX_envs_menu_present": true,
   "autoclose": false,
   "autocomplete": true,
   "bibliofile": "biblio.bib",
   "cite_by": "apalike",
   "current_citInitial": 1,
   "eqLabelWithNumbers": true,
   "eqNumInitial": 1,
   "hotkeys": {
    "equation": "Ctrl-E",
    "itemize": "Ctrl-I"
   },
   "labels_anchors": false,
   "latex_user_defs": false,
   "report_style_numbering": false,
   "user_envs_cfg": false
  },
  "nteract": {
   "version": "0.12.3"
  }
 },
 "nbformat": 4,
 "nbformat_minor": 2
}
